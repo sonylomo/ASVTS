{
 "cells": [
  {
   "cell_type": "markdown",
   "metadata": {},
   "source": [
    "## Tokenizer"
   ]
  },
  {
   "cell_type": "code",
   "execution_count": 2,
   "metadata": {
    "execution": {
     "iopub.execute_input": "2023-11-04T20:57:55.982261Z",
     "iopub.status.busy": "2023-11-04T20:57:55.981912Z",
     "iopub.status.idle": "2023-11-04T20:58:04.735920Z",
     "shell.execute_reply": "2023-11-04T20:58:04.734720Z",
     "shell.execute_reply.started": "2023-11-04T20:57:55.982231Z"
    }
   },
   "outputs": [
    {
     "name": "stderr",
     "output_type": "stream",
     "text": [
      "You are using the default legacy behaviour of the <class 'transformers.models.t5.tokenization_t5.T5Tokenizer'>. This is expected, and simply means that the `legacy` (previous) behavior will be used so nothing changes for you. If you want to use the new behaviour, set `legacy=False`. This should only be set if you understand what it means, and thouroughly read the reason why this was added as explained in https://github.com/huggingface/transformers/pull/24565\n",
      "C:\\Users\\user\\AppData\\Local\\Programs\\Python\\Python310\\lib\\site-packages\\transformers\\convert_slow_tokenizer.py:473: UserWarning: The sentencepiece tokenizer that you are converting to a fast tokenizer uses the byte fallback option which is not implemented in the fast tokenizers. In practice this means that the fast version of the tokenizer can produce unknown tokens whereas the sentencepiece version would have converted these unknown tokens into a sequence of byte tokens matching the original piece of text.\n",
      "  warnings.warn(\n"
     ]
    }
   ],
   "source": [
    "from transformers import AutoTokenizer\n",
    "\n",
    "t5_tokenizer = AutoTokenizer.from_pretrained(\"google/mt5-small\")"
   ]
  },
  {
   "cell_type": "markdown",
   "metadata": {},
   "source": [
    "## Trained Model"
   ]
  },
  {
   "cell_type": "code",
   "execution_count": 4,
   "metadata": {
    "execution": {
     "iopub.execute_input": "2023-11-04T20:58:04.737950Z",
     "iopub.status.busy": "2023-11-04T20:58:04.737370Z",
     "iopub.status.idle": "2023-11-04T20:59:07.643225Z",
     "shell.execute_reply": "2023-11-04T20:59:07.642199Z",
     "shell.execute_reply.started": "2023-11-04T20:58:04.737917Z"
    }
   },
   "outputs": [],
   "source": [
    "from transformers import AutoModelForSeq2SeqLM\n",
    "\n",
    "model = (AutoModelForSeq2SeqLM\n",
    "         .from_pretrained(\"Jayem-11/mt5-summarize-sw\")) "
   ]
  },
  {
   "cell_type": "markdown",
   "metadata": {},
   "source": [
    "## Inference"
   ]
  },
  {
   "cell_type": "code",
   "execution_count": 5,
   "metadata": {
    "execution": {
     "iopub.execute_input": "2023-11-04T20:59:10.622328Z",
     "iopub.status.busy": "2023-11-04T20:59:10.621579Z",
     "iopub.status.idle": "2023-11-04T20:59:10.628732Z",
     "shell.execute_reply": "2023-11-04T20:59:10.627857Z",
     "shell.execute_reply.started": "2023-11-04T20:59:10.622288Z"
    }
   },
   "outputs": [],
   "source": [
    "sample_text = \"\"\"\"\n",
    "Messi na Mbappe Ingawa kila mwamba ngoma, ngozi huivutia kwake, ukweli ni kuwa,\n",
    "wachezaji wapya wametumia vyema jukwaa lililopatikana Kombe la Dunia Urusi 2018. Baada ya\n",
    "kutawala vinywa vya wengi ndani ya zaidi ya kipindi cha miaka 10, kuondoka kwa Argentina na \n",
    "Ureno Urusi hatua za mchujo, imewanyima Messi na Ronaldo muda zaidi wa kujadiliwa. \n",
    "Kurunzi za soka sasa zimeelekezwa kwa Neymar wa Brazil, Paul Pogba, Kylian Mbappe na Antoine \n",
    "Griezmann wa Ufaransa, Edison Cavani na Luis Suarez wa Uruguay, Harry Kane wa Uingereza na Romelu \n",
    "Lukaku wa Ubelgiji. Orodha ni ndefu, lakini yote yataamuliwa kulingana na mchango wa wachezaji hawa \n",
    "kwa ufanisi wa timu zao. Mfungaji bora kombe la Dunia 2018 Hatua hii inamaanisha kwamba Kuondoka \n",
    "kwa Ureno imekuwa pigo la kipekee kwa Ronaldo, aliyejitahidi kuzidisha mabao yake Urusi kwani ni\n",
    "wazi sasa wenzake watampiku kwenye uwaniaji wa tuzo ya mfungaji bora. Ronaldo, alianza vyema baada\n",
    "ya kuondoka na mpira wa mechi dhidi ya Uhispania alipofunga hat-trick mechi yake ya kwanza. Kipa wa \n",
    "Iran Ali Beiranvand pia alimnyima kwa kushika penalti yake walipokutana. Kwa sasa mbio ni kati ya Lukaku,\n",
    "Harry Kane, Cavani na Mbappe na wengine. Diego Costa wa Uhispania na Cheryshev wa Urusi watapata fursa ya kufunga mabao wawili hao \n",
    "watakapokwaruzana siku ya Jumapili katika uwanja wa Luzhniki, Moscow\n",
    "\"\"\""
   ]
  },
  {
   "cell_type": "code",
   "execution_count": 6,
   "metadata": {
    "execution": {
     "iopub.execute_input": "2023-11-04T20:59:11.645897Z",
     "iopub.status.busy": "2023-11-04T20:59:11.645466Z",
     "iopub.status.idle": "2023-11-04T20:59:21.552334Z",
     "shell.execute_reply": "2023-11-04T20:59:21.551193Z",
     "shell.execute_reply.started": "2023-11-04T20:59:11.645860Z"
    }
   },
   "outputs": [
    {
     "data": {
      "text/plain": [
       "[{'summary_text': 'Cristiano Ronaldo anatarajiwa kuondoka kwa Argentina na Ureno.'}]"
      ]
     },
     "execution_count": 6,
     "metadata": {},
     "output_type": "execute_result"
    }
   ],
   "source": [
    "from transformers import pipeline\n",
    "\n",
    "summarizer = pipeline(\"summarization\", model=model, tokenizer=t5_tokenizer)\n",
    "\n",
    "summarizer(\n",
    "    sample_text,\n",
    "    max_length=215,\n",
    ")"
   ]
  }
 ],
 "metadata": {
  "kernelspec": {
   "display_name": "Python 3 (ipykernel)",
   "language": "python",
   "name": "python3"
  },
  "language_info": {
   "codemirror_mode": {
    "name": "ipython",
    "version": 3
   },
   "file_extension": ".py",
   "mimetype": "text/x-python",
   "name": "python",
   "nbconvert_exporter": "python",
   "pygments_lexer": "ipython3",
   "version": "3.10.7"
  }
 },
 "nbformat": 4,
 "nbformat_minor": 4
}
